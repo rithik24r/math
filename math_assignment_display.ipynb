{
  "nbformat": 4,
  "nbformat_minor": 0,
  "metadata": {
    "colab": {
      "name": "Untitled2.ipynb",
      "provenance": []
    },
    "kernelspec": {
      "name": "python3",
      "display_name": "Python 3"
    }
  },
  "cells": [
    {
      "cell_type": "code",
      "metadata": {
        "id": "9K8u5n6AxGQ5",
        "colab_type": "code",
        "colab": {
          "base_uri": "https://localhost:8080/",
          "height": 35
        },
        "outputId": "e33f8c4c-cfb5-49e2-a80f-6dcbf87b45ca"
      },
      "source": [
        "#area of circle using math function\n",
        "import math\n",
        "math.pi\n",
        "radius=4\n",
        "area=(math.pi*radius*radius)\n",
        "print(\"area of circle is\",area)"
      ],
      "execution_count": 3,
      "outputs": [
        {
          "output_type": "stream",
          "text": [
            "area of circle is 50.26548245743669\n"
          ],
          "name": "stdout"
        }
      ]
    },
    {
      "cell_type": "code",
      "metadata": {
        "id": "jCch47vHyQ64",
        "colab_type": "code",
        "colab": {
          "base_uri": "https://localhost:8080/",
          "height": 72
        },
        "outputId": "3ca6c4e9-7ac0-4aac-9d60-c10b38a0b0b7"
      },
      "source": [
        "#area of a regular polygon using math function\n",
        "from  math  import tan,pi\n",
        "n=int(input(\"enter number of sides\"))\n",
        "l=float(input(\"length of the side\"))\n",
        "area=n*(l**2)/(4*tan(pi/n))\n",
        "print(\"area is\",area)"
      ],
      "execution_count": 8,
      "outputs": [
        {
          "output_type": "stream",
          "text": [
            "enter number of sides4\n",
            "length of the side20\n",
            "area is 400.00000000000006\n"
          ],
          "name": "stdout"
        }
      ]
    },
    {
      "cell_type": "code",
      "metadata": {
        "id": "w08uHQP-1dum",
        "colab_type": "code",
        "colab": {
          "base_uri": "https://localhost:8080/",
          "height": 72
        },
        "outputId": "e9dfa382-67e7-4f55-b32d-383f4ad2cf86"
      },
      "source": [
        "#area of a segement of circle\n",
        "import math\n",
        "math.pi\n",
        "r=int(input(\"enter the value\"))\n",
        "angle=float(input(\"angle\"))\n",
        "if angle>=360:\n",
        "          print(\"angle not possible\")\n",
        "area=(math.pi*r**2)*(angle/360)\n",
        "print(\"area is\",area)"
      ],
      "execution_count": 10,
      "outputs": [
        {
          "output_type": "stream",
          "text": [
            "enter the value4\n",
            "angle45\n",
            "area is 6.283185307179586\n"
          ],
          "name": "stdout"
        }
      ]
    },
    {
      "cell_type": "code",
      "metadata": {
        "id": "gMEsVRQD3TiY",
        "colab_type": "code",
        "colab": {
          "base_uri": "https://localhost:8080/",
          "height": 35
        },
        "outputId": "945919ca-281c-457f-98a3-e9b5a3abf7d6"
      },
      "source": [
        "#shuffle the list\n",
        "from random import shuffle\n",
        "l1=[100,1,2,3,30,40,\"hai\",\"hello\"]\n",
        "shuffle(l1)\n",
        "print(l1)"
      ],
      "execution_count": 11,
      "outputs": [
        {
          "output_type": "stream",
          "text": [
            "[2, 40, 'hello', 'hai', 30, 100, 3, 1]\n"
          ],
          "name": "stdout"
        }
      ]
    },
    {
      "cell_type": "code",
      "metadata": {
        "id": "_wrlk2l24CgB",
        "colab_type": "code",
        "colab": {
          "base_uri": "https://localhost:8080/",
          "height": 35
        },
        "outputId": "b8185251-6382-4df1-f72d-d9a882c58748"
      },
      "source": [
        "import math\n",
        "math.sin(math.pi/3)\n"
      ],
      "execution_count": 27,
      "outputs": [
        {
          "output_type": "execute_result",
          "data": {
            "text/plain": [
              "0.8660254037844386"
            ]
          },
          "metadata": {
            "tags": []
          },
          "execution_count": 27
        }
      ]
    },
    {
      "cell_type": "code",
      "metadata": {
        "id": "t-Bxobht5ksZ",
        "colab_type": "code",
        "colab": {
          "base_uri": "https://localhost:8080/",
          "height": 35
        },
        "outputId": "abd734b2-611a-44a3-df63-58936efa22f7"
      },
      "source": [
        "import math\n",
        "math.pi\n",
        "math.cos(math.pi)"
      ],
      "execution_count": 15,
      "outputs": [
        {
          "output_type": "execute_result",
          "data": {
            "text/plain": [
              "-1.0"
            ]
          },
          "metadata": {
            "tags": []
          },
          "execution_count": 15
        }
      ]
    },
    {
      "cell_type": "code",
      "metadata": {
        "id": "o2sCsCM05uqG",
        "colab_type": "code",
        "colab": {
          "base_uri": "https://localhost:8080/",
          "height": 35
        },
        "outputId": "34bd5e54-62a2-4e42-f4dc-6b35e73f236d"
      },
      "source": [
        "import math\n",
        "math.tan(math.pi/2)"
      ],
      "execution_count": 28,
      "outputs": [
        {
          "output_type": "execute_result",
          "data": {
            "text/plain": [
              "1.633123935319537e+16"
            ]
          },
          "metadata": {
            "tags": []
          },
          "execution_count": 28
        }
      ]
    },
    {
      "cell_type": "code",
      "metadata": {
        "id": "6YSEQY__546n",
        "colab_type": "code",
        "colab": {
          "base_uri": "https://localhost:8080/",
          "height": 35
        },
        "outputId": "93bed5e4-d84c-4267-b082-b09ef117b7b4"
      },
      "source": [
        "import math\n",
        "math.pow(5,4)"
      ],
      "execution_count": 20,
      "outputs": [
        {
          "output_type": "execute_result",
          "data": {
            "text/plain": [
              "625.0"
            ]
          },
          "metadata": {
            "tags": []
          },
          "execution_count": 20
        }
      ]
    },
    {
      "cell_type": "code",
      "metadata": {
        "id": "WJRPIF1k5Llr",
        "colab_type": "code",
        "colab": {
          "base_uri": "https://localhost:8080/",
          "height": 35
        },
        "outputId": "3123e681-ad4f-437f-9d69-60f4b9002be0"
      },
      "source": [
        "math.sqrt(400)"
      ],
      "execution_count": 21,
      "outputs": [
        {
          "output_type": "execute_result",
          "data": {
            "text/plain": [
              "20.0"
            ]
          },
          "metadata": {
            "tags": []
          },
          "execution_count": 21
        }
      ]
    },
    {
      "cell_type": "code",
      "metadata": {
        "id": "L5nwUeI27NAN",
        "colab_type": "code",
        "colab": {
          "base_uri": "https://localhost:8080/",
          "height": 35
        },
        "outputId": "2497bc13-b416-432d-87ec-49473e1b9ec2"
      },
      "source": [
        "import math\n",
        "math.e\n",
        "math.pow(5,math.e)"
      ],
      "execution_count": 25,
      "outputs": [
        {
          "output_type": "execute_result",
          "data": {
            "text/plain": [
              "79.43235916621322"
            ]
          },
          "metadata": {
            "tags": []
          },
          "execution_count": 25
        }
      ]
    },
    {
      "cell_type": "code",
      "metadata": {
        "id": "sU1ixsvC7h0Z",
        "colab_type": "code",
        "colab": {
          "base_uri": "https://localhost:8080/",
          "height": 35
        },
        "outputId": "8a3da9c8-0179-4bc0-9af1-44134d375b59"
      },
      "source": [
        "math.log(1024)/math.log(2)"
      ],
      "execution_count": 29,
      "outputs": [
        {
          "output_type": "execute_result",
          "data": {
            "text/plain": [
              "10.0"
            ]
          },
          "metadata": {
            "tags": []
          },
          "execution_count": 29
        }
      ]
    },
    {
      "cell_type": "code",
      "metadata": {
        "id": "s2dtqFtZ8tdV",
        "colab_type": "code",
        "colab": {
          "base_uri": "https://localhost:8080/",
          "height": 35
        },
        "outputId": "84ea2add-7e0d-476f-ccf4-e86c335a9769"
      },
      "source": [
        "math.log(1024)/math.log(10)"
      ],
      "execution_count": 30,
      "outputs": [
        {
          "output_type": "execute_result",
          "data": {
            "text/plain": [
              "3.0102999566398116"
            ]
          },
          "metadata": {
            "tags": []
          },
          "execution_count": 30
        }
      ]
    },
    {
      "cell_type": "code",
      "metadata": {
        "id": "E7CCTSYn7y7y",
        "colab_type": "code",
        "colab": {
          "base_uri": "https://localhost:8080/",
          "height": 35
        },
        "outputId": "9b538d6d-2c2a-4e0f-da68-ce780ee05db3"
      },
      "source": [
        "math.floor(23.56)"
      ],
      "execution_count": 31,
      "outputs": [
        {
          "output_type": "execute_result",
          "data": {
            "text/plain": [
              "23"
            ]
          },
          "metadata": {
            "tags": []
          },
          "execution_count": 31
        }
      ]
    },
    {
      "cell_type": "code",
      "metadata": {
        "id": "P_HmOtTh8_YQ",
        "colab_type": "code",
        "colab": {
          "base_uri": "https://localhost:8080/",
          "height": 35
        },
        "outputId": "b0295c72-cc5c-48c8-f429-68c99146a24d"
      },
      "source": [
        "math.ceil(23.56)"
      ],
      "execution_count": 33,
      "outputs": [
        {
          "output_type": "execute_result",
          "data": {
            "text/plain": [
              "24"
            ]
          },
          "metadata": {
            "tags": []
          },
          "execution_count": 33
        }
      ]
    },
    {
      "cell_type": "code",
      "metadata": {
        "id": "tY8rF9Mu9QKF",
        "colab_type": "code",
        "colab": {
          "base_uri": "https://localhost:8080/",
          "height": 35
        },
        "outputId": "549785bc-91e9-4837-8005-acd44227429b"
      },
      "source": [
        "#print random numbers bw 1,10000\n",
        "import random\n",
        "print(random.randrange(1,10000,50))"
      ],
      "execution_count": 37,
      "outputs": [
        {
          "output_type": "stream",
          "text": [
            "9501\n"
          ],
          "name": "stdout"
        }
      ]
    }
  ]
}